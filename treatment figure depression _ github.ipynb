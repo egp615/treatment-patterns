{
 "cells": [
  {
   "cell_type": "code",
   "execution_count": 1,
   "id": "c34ad940-92a4-4bc5-9375-a0efc3aeed2e",
   "metadata": {
    "tags": []
   },
   "outputs": [],
   "source": [
    "import pandas as pd\n",
    "import matplotlib.pyplot as plt\n",
    "import seaborn as sns\n",
    "import numpy as np\n",
    "from matplotlib.pyplot import figure\n",
    "from collections import Counter"
   ]
  },
  {
   "cell_type": "code",
   "execution_count": 2,
   "id": "22bb0eca-f0d3-4a04-946e-3dcfd026de04",
   "metadata": {
    "tags": []
   },
   "outputs": [
    {
     "data": {
      "text/html": [
       "<div>\n",
       "<style scoped>\n",
       "    .dataframe tbody tr th:only-of-type {\n",
       "        vertical-align: middle;\n",
       "    }\n",
       "\n",
       "    .dataframe tbody tr th {\n",
       "        vertical-align: top;\n",
       "    }\n",
       "\n",
       "    .dataframe thead th {\n",
       "        text-align: right;\n",
       "    }\n",
       "</style>\n",
       "<table border=\"1\" class=\"dataframe\">\n",
       "  <thead>\n",
       "    <tr style=\"text-align: right;\">\n",
       "      <th></th>\n",
       "      <th>NDRIs</th>\n",
       "      <th>SSRIs</th>\n",
       "      <th>SARIs</th>\n",
       "      <th>SNRIs</th>\n",
       "      <th>Tetracyclic_antidepressants</th>\n",
       "      <th>TCAs</th>\n",
       "      <th>Author</th>\n",
       "      <th>Year</th>\n",
       "    </tr>\n",
       "  </thead>\n",
       "  <tbody>\n",
       "    <tr>\n",
       "      <th>0</th>\n",
       "      <td>1.0</td>\n",
       "      <td>1</td>\n",
       "      <td>1</td>\n",
       "      <td>1</td>\n",
       "      <td>1</td>\n",
       "      <td>1.0</td>\n",
       "      <td>Hripcsak</td>\n",
       "      <td>2016</td>\n",
       "    </tr>\n",
       "    <tr>\n",
       "      <th>1</th>\n",
       "      <td>NaN</td>\n",
       "      <td>1</td>\n",
       "      <td>1</td>\n",
       "      <td>1</td>\n",
       "      <td>1</td>\n",
       "      <td>NaN</td>\n",
       "      <td>Zhang</td>\n",
       "      <td>2018</td>\n",
       "    </tr>\n",
       "    <tr>\n",
       "      <th>2</th>\n",
       "      <td>1.0</td>\n",
       "      <td>1</td>\n",
       "      <td>1</td>\n",
       "      <td>1</td>\n",
       "      <td>1</td>\n",
       "      <td>1.0</td>\n",
       "      <td>Markus</td>\n",
       "      <td>2022</td>\n",
       "    </tr>\n",
       "    <tr>\n",
       "      <th>3</th>\n",
       "      <td>1.0</td>\n",
       "      <td>1</td>\n",
       "      <td>1</td>\n",
       "      <td>1</td>\n",
       "      <td>1</td>\n",
       "      <td>1.0</td>\n",
       "      <td>*Chen</td>\n",
       "      <td>2020</td>\n",
       "    </tr>\n",
       "  </tbody>\n",
       "</table>\n",
       "</div>"
      ],
      "text/plain": [
       "   NDRIs  SSRIs  SARIs  SNRIs  Tetracyclic_antidepressants  TCAs    Author  \\\n",
       "0    1.0      1      1      1                            1   1.0  Hripcsak   \n",
       "1    NaN      1      1      1                            1   NaN     Zhang   \n",
       "2    1.0      1      1      1                            1   1.0    Markus   \n",
       "3    1.0      1      1      1                            1   1.0     *Chen   \n",
       "\n",
       "   Year  \n",
       "0  2016  \n",
       "1  2018  \n",
       "2  2022  \n",
       "3  2020  "
      ]
     },
     "execution_count": 2,
     "metadata": {},
     "output_type": "execute_result"
    }
   ],
   "source": [
    "df = pd.read_excel('depression_20231122_m.xlsx', \n",
    "                                     sheet_name=\"depression\", \n",
    "                                     usecols=\"A,B,C,D,E,F,G,H\")\n",
    "\n",
    "df"
   ]
  },
  {
   "cell_type": "code",
   "execution_count": 3,
   "id": "6c6e91ad-4d66-428f-b5ae-f619eeb4b5f3",
   "metadata": {
    "tags": []
   },
   "outputs": [
    {
     "name": "stdout",
     "output_type": "stream",
     "text": [
      "<class 'pandas.core.frame.DataFrame'>\n",
      "RangeIndex: 4 entries, 0 to 3\n",
      "Data columns (total 8 columns):\n",
      " #   Column                       Non-Null Count  Dtype  \n",
      "---  ------                       --------------  -----  \n",
      " 0   NDRIs                        3 non-null      float64\n",
      " 1   SSRIs                        4 non-null      int64  \n",
      " 2   SARIs                        4 non-null      int64  \n",
      " 3   SNRIs                        4 non-null      int64  \n",
      " 4   Tetracyclic_antidepressants  4 non-null      int64  \n",
      " 5   TCAs                         3 non-null      float64\n",
      " 6   Author                       4 non-null      object \n",
      " 7   Year                         4 non-null      int64  \n",
      "dtypes: float64(2), int64(5), object(1)\n",
      "memory usage: 388.0+ bytes\n"
     ]
    }
   ],
   "source": [
    "df.info()\n"
   ]
  },
  {
   "cell_type": "code",
   "execution_count": 4,
   "id": "8cccf1a2-5f68-47e0-ad4c-3825ec9edc4f",
   "metadata": {
    "tags": []
   },
   "outputs": [],
   "source": [
    "df.NDRIs\n",
    "N = len(df.NDRIs); N\n",
    "noc=6"
   ]
  },
  {
   "cell_type": "code",
   "execution_count": 5,
   "id": "b5049e2b-e912-4726-b40e-80ede4c4f836",
   "metadata": {
    "tags": []
   },
   "outputs": [
    {
     "data": {
      "text/plain": [
       "4"
      ]
     },
     "execution_count": 5,
     "metadata": {},
     "output_type": "execute_result"
    }
   ],
   "source": [
    "N"
   ]
  },
  {
   "cell_type": "code",
   "execution_count": 6,
   "id": "e2d08d76-cf64-4862-830d-600e26b7f7c2",
   "metadata": {
    "tags": []
   },
   "outputs": [
    {
     "data": {
      "text/plain": [
       "6"
      ]
     },
     "execution_count": 6,
     "metadata": {},
     "output_type": "execute_result"
    }
   ],
   "source": [
    "noc"
   ]
  },
  {
   "cell_type": "code",
   "execution_count": 7,
   "id": "75bda6b5-bb12-48da-8a27-4c6b598f3500",
   "metadata": {
    "tags": []
   },
   "outputs": [],
   "source": [
    "years = np.array([df.Year[i] for i in range(0, N)])\n",
    "names = np.array([df.Author[i] for i in range(0, N)])\n",
    "years_sorted_indices = np.argsort(years)\n",
    "years_sorted = np.sort(years)\n",
    "\n",
    "names_sorted = []\n",
    "for el in years_sorted_indices:\n",
    "    names_sorted.append(names[el])\n",
    "years_sorted = np.flip(years_sorted)\n",
    "names_sorted = np.flip(names_sorted)\n",
    "years_sorted_indices = np.flip(years_sorted_indices)"
   ]
  },
  {
   "cell_type": "code",
   "execution_count": 8,
   "id": "ef42e0e4-4084-44ff-a324-4b0fda72e8aa",
   "metadata": {
    "tags": []
   },
   "outputs": [
    {
     "data": {
      "text/plain": [
       "array([2, 3, 1, 0], dtype=int64)"
      ]
     },
     "execution_count": 8,
     "metadata": {},
     "output_type": "execute_result"
    }
   ],
   "source": [
    "years_sorted_indices"
   ]
  },
  {
   "cell_type": "code",
   "execution_count": 9,
   "id": "ab3eb941-56b7-4177-bf0f-dc924439a893",
   "metadata": {
    "tags": []
   },
   "outputs": [],
   "source": [
    "arr1 = np.array([df.NDRIs[i] for i in range(N)])\n",
    "arr2 = np.array([df.SSRIs[i] for i in range(N)])\n",
    "arr3 = np.array([df.SARIs[i] for i in range(N)])\n",
    "arr4 = np.array([df.SNRIs[i] for i in range(N)])\n",
    "arr5 = np.array([df.Tetracyclic_antidepressants[i] for i in range(N)])\n",
    "arr6 = np.array([df.TCAs[i] for i in range(N)])\n",
    "\n",
    "all_arrs = np.array([arr1, arr2, arr3, arr4, arr5, arr6])"
   ]
  },
  {
   "cell_type": "code",
   "execution_count": 10,
   "id": "a0f6c98a-bcec-404b-a23c-9eac5846bf70",
   "metadata": {
    "tags": []
   },
   "outputs": [
    {
     "data": {
      "text/plain": [
       "array([[ 1., nan,  1.,  1.],\n",
       "       [ 1.,  1.,  1.,  1.],\n",
       "       [ 1.,  1.,  1.,  1.],\n",
       "       [ 1.,  1.,  1.,  1.],\n",
       "       [ 1.,  1.,  1.,  1.],\n",
       "       [ 1., nan,  1.,  1.]])"
      ]
     },
     "execution_count": 10,
     "metadata": {},
     "output_type": "execute_result"
    }
   ],
   "source": [
    "all_arrs"
   ]
  },
  {
   "cell_type": "code",
   "execution_count": 11,
   "id": "85124485-e401-4ad0-8f71-214ae0959c59",
   "metadata": {
    "tags": []
   },
   "outputs": [],
   "source": [
    "arr_sorted = []\n",
    "for el in all_arrs:\n",
    "    arri_sorted = []\n",
    "    for a in years_sorted_indices:\n",
    "        arri_sorted.append(el[a])\n",
    "    arr_sorted.append(arri_sorted)\n",
    "arr_sorted = np.array(arr_sorted)"
   ]
  },
  {
   "cell_type": "code",
   "execution_count": 12,
   "id": "f41e9b5e-973c-4ff2-894c-ad187455a224",
   "metadata": {
    "tags": []
   },
   "outputs": [
    {
     "data": {
      "text/plain": [
       "array([[ 1.,  1., nan,  1.],\n",
       "       [ 1.,  1.,  1.,  1.],\n",
       "       [ 1.,  1.,  1.,  1.],\n",
       "       [ 1.,  1.,  1.,  1.],\n",
       "       [ 1.,  1.,  1.,  1.],\n",
       "       [ 1.,  1., nan,  1.]])"
      ]
     },
     "execution_count": 12,
     "metadata": {},
     "output_type": "execute_result"
    }
   ],
   "source": [
    "arr_sorted"
   ]
  },
  {
   "cell_type": "code",
   "execution_count": 13,
   "id": "3fd0ca92-c2a9-4f14-b7a6-b879913b752e",
   "metadata": {
    "tags": []
   },
   "outputs": [
    {
     "name": "stdout",
     "output_type": "stream",
     "text": [
      "   NDRIs  SSRIs  SARIs  SNRIs  Tetracyclic_antidepressants   TCAs  Author  \\\n",
      "0  False  False  False  False                        False  False   False   \n",
      "1   True  False  False  False                        False   True   False   \n",
      "2  False  False  False  False                        False  False   False   \n",
      "3  False  False  False  False                        False  False   False   \n",
      "\n",
      "    Year  \n",
      "0  False  \n",
      "1  False  \n",
      "2  False  \n",
      "3  False  \n"
     ]
    }
   ],
   "source": [
    "print(df.isna())"
   ]
  },
  {
   "cell_type": "code",
   "execution_count": 14,
   "id": "d268f2f9-dbca-42e6-b626-7c78ad9a6fb1",
   "metadata": {},
   "outputs": [],
   "source": [
    "x = []\n",
    "y = []\n",
    "for el in arr_sorted:\n",
    "    ind = 1\n",
    "    for a in el:\n",
    "        if a != 'nan':\n",
    "            y.append(ind)\n",
    "        else:\n",
    "            y.append(0)\n",
    "        ind += 1\n",
    "y = np.array(y)\n",
    "for i in range(N*len(arr_sorted)):\n",
    "    x.append(int(i/N))\n",
    "x = np.array(x)"
   ]
  },
  {
   "cell_type": "code",
   "execution_count": 15,
   "id": "4c49780a-fd64-44ae-bdf8-a21d9e62f01d",
   "metadata": {
    "tags": []
   },
   "outputs": [
    {
     "data": {
      "text/plain": [
       "array([0, 0, 0, 0, 1, 1, 1, 1, 2, 2, 2, 2, 3, 3, 3, 3, 4, 4, 4, 4, 5, 5,\n",
       "       5, 5])"
      ]
     },
     "execution_count": 15,
     "metadata": {},
     "output_type": "execute_result"
    }
   ],
   "source": [
    "x"
   ]
  },
  {
   "cell_type": "code",
   "execution_count": 16,
   "id": "564a928f-904d-44ed-9202-d6dc755a2498",
   "metadata": {
    "tags": []
   },
   "outputs": [
    {
     "data": {
      "text/plain": [
       "array([1, 2, 3, 4, 1, 2, 3, 4, 1, 2, 3, 4, 1, 2, 3, 4, 1, 2, 3, 4, 1, 2,\n",
       "       3, 4])"
      ]
     },
     "execution_count": 16,
     "metadata": {},
     "output_type": "execute_result"
    }
   ],
   "source": [
    "y"
   ]
  },
  {
   "cell_type": "code",
   "execution_count": 17,
   "id": "83f3a4bb-9b66-4470-a744-5272325eef49",
   "metadata": {
    "tags": []
   },
   "outputs": [],
   "source": [
    "x_cols = []\n",
    "y_cols = []\n",
    "row = []\n",
    "row2 = []\n",
    "for i in range(noc*N):\n",
    "    row.append(x[i])\n",
    "    row2.append(y[i])\n",
    "    if (i+1)%N == 0:\n",
    "        x_cols.append(row)\n",
    "        y_cols.append(row2)\n",
    "        row = []\n",
    "        row2 = []"
   ]
  },
  {
   "cell_type": "code",
   "execution_count": 18,
   "id": "5e99639d-ae4b-49af-9767-86f17910e1e0",
   "metadata": {
    "tags": []
   },
   "outputs": [],
   "source": [
    "x_hist = []\n",
    "x_hist_cols = []\n",
    "ind = 0\n",
    "for el in y:\n",
    "    if el != 0:\n",
    "        x_hist.append(int(ind/N))\n",
    "    ind += 1\n",
    "k = 0\n",
    "row = []\n",
    "for el in x_hist:\n",
    "    if el == k+1:\n",
    "        k+=1\n",
    "        x_hist_cols.append(row)\n",
    "        row = []\n",
    "    row.append(el)\n",
    "x_hist_cols.append(row)"
   ]
  },
  {
   "cell_type": "code",
   "execution_count": 19,
   "id": "ded360f3-6162-4e2e-a33a-ff3d0cc3396b",
   "metadata": {
    "tags": []
   },
   "outputs": [
    {
     "data": {
      "text/plain": [
       "[[0, 0, 0, 0],\n",
       " [1, 1, 1, 1],\n",
       " [2, 2, 2, 2],\n",
       " [3, 3, 3, 3],\n",
       " [4, 4, 4, 4],\n",
       " [5, 5, 5, 5]]"
      ]
     },
     "execution_count": 19,
     "metadata": {},
     "output_type": "execute_result"
    }
   ],
   "source": [
    "x_hist_cols"
   ]
  },
  {
   "cell_type": "code",
   "execution_count": 20,
   "id": "10c96a9e-0a78-40b8-936a-aa79b82dffbe",
   "metadata": {
    "tags": []
   },
   "outputs": [
    {
     "data": {
      "text/plain": [
       "[[0, 0, 0, 0],\n",
       " [1, 1, 1, 1],\n",
       " [2, 2, 2, 2],\n",
       " [3, 3, 3, 3],\n",
       " [4, 4, 4, 4],\n",
       " [5, 5, 5, 5]]"
      ]
     },
     "execution_count": 20,
     "metadata": {},
     "output_type": "execute_result"
    }
   ],
   "source": [
    "x_cols"
   ]
  },
  {
   "cell_type": "code",
   "execution_count": 21,
   "id": "002d246e-d826-42f8-a8c9-5bf12d18aaf0",
   "metadata": {
    "tags": []
   },
   "outputs": [
    {
     "data": {
      "text/plain": [
       "[[1, 2, 3, 4],\n",
       " [1, 2, 3, 4],\n",
       " [1, 2, 3, 4],\n",
       " [1, 2, 3, 4],\n",
       " [1, 2, 3, 4],\n",
       " [1, 2, 3, 4]]"
      ]
     },
     "execution_count": 21,
     "metadata": {},
     "output_type": "execute_result"
    }
   ],
   "source": [
    "y_cols"
   ]
  },
  {
   "cell_type": "code",
   "execution_count": 22,
   "id": "555faf3d-0609-4969-97bc-480a05fe6237",
   "metadata": {
    "tags": []
   },
   "outputs": [],
   "source": [
    "y_cols = [[1, 2, np.nan, 4],\n",
    " [1, 2, 3, 4],\n",
    " [1, 2, 3, 4],\n",
    " [1, 2, 3, 4],\n",
    " [1, 2, 3, 4],\n",
    " [1, 2, np.nan, 4]]"
   ]
  },
  {
   "cell_type": "code",
   "execution_count": 23,
   "id": "3e7fbd6b-6956-4104-aef2-d9c6ae2df547",
   "metadata": {
    "tags": []
   },
   "outputs": [
    {
     "data": {
      "text/plain": [
       "[[1, 2, nan, 4],\n",
       " [1, 2, 3, 4],\n",
       " [1, 2, 3, 4],\n",
       " [1, 2, 3, 4],\n",
       " [1, 2, 3, 4],\n",
       " [1, 2, nan, 4]]"
      ]
     },
     "execution_count": 23,
     "metadata": {},
     "output_type": "execute_result"
    }
   ],
   "source": [
    "y_cols"
   ]
  },
  {
   "cell_type": "code",
   "execution_count": 24,
   "id": "7f0f3050-0177-4719-903d-b4ce13a5e498",
   "metadata": {
    "tags": []
   },
   "outputs": [],
   "source": [
    "x_hist_cols = [[0, 0, np.nan, 0],\n",
    " [1, 1, 1, 1],\n",
    " [2, 2, 2, 2],\n",
    " [3, 3, 3, 3],\n",
    " [4, 4, 4, 4],\n",
    " [5, 5, np.nan,5]]"
   ]
  },
  {
   "cell_type": "code",
   "execution_count": 25,
   "id": "3c650db8-feae-4a8c-b9b9-e72db826bb06",
   "metadata": {
    "tags": []
   },
   "outputs": [
    {
     "data": {
      "text/plain": [
       "[[0, 0, nan, 0],\n",
       " [1, 1, 1, 1],\n",
       " [2, 2, 2, 2],\n",
       " [3, 3, 3, 3],\n",
       " [4, 4, 4, 4],\n",
       " [5, 5, nan, 5]]"
      ]
     },
     "execution_count": 25,
     "metadata": {},
     "output_type": "execute_result"
    }
   ],
   "source": [
    "x_hist_cols"
   ]
  },
  {
   "cell_type": "code",
   "execution_count": 26,
   "id": "33d1f1ec-d932-4b33-a79a-a3153397f9b5",
   "metadata": {
    "tags": []
   },
   "outputs": [],
   "source": [
    "hfont = {'fontname':'Times New Roman'}"
   ]
  },
  {
   "cell_type": "code",
   "execution_count": 27,
   "id": "74bde3b7-7b17-4574-a691-dec856d5e48b",
   "metadata": {
    "tags": []
   },
   "outputs": [
    {
     "data": {
      "image/png": "[encoded data removed]",
      "text/plain": [
       "<Figure size 1800x2400 with 2 Axes>"
      ]
     },
     "metadata": {},
     "output_type": "display_data"
    }
   ],
   "source": [
    "colors = [\"orange\", \"gold\", \"firebrick\", \"lightcoral\", \"green\", \"steelblue\"]\n",
    "def scatter_hist(x, y, ax, ax_histx):\n",
    "    ax_histx.tick_params(axis=\"x\", labelbottom=False)\n",
    "    ax.set_xlim([-1,6])\n",
    "    ax.set_ylim([0, 5])\n",
    "    \n",
    "    for i in range(noc):\n",
    "        ax.scatter(x_cols[i], y_cols[i], s=100, marker ='x', color = colors[i], alpha = 1)\n",
    "    \n",
    "    ax.set_yticks(np.array([i for i in range(N+1)]))\n",
    "    ax.axes.get_xaxis().set_visible(False)\n",
    "    \n",
    "    vec = np.array([i for i in range(10)])\n",
    "    zeros = np.zeros(10)\n",
    "    ax.plot(vec, zeros, 'ws')\n",
    "    i = 1\n",
    "    for l in range(len(names_sorted)):\n",
    "        string = names_sorted[l]+', '+str(years_sorted[l])\n",
    "        ax.text(6.5, i-0.15, string)\n",
    "        i += 1\n",
    "    ax.grid(which='major', axis = 'y', linestyle = '--', alpha = 0.6)\n",
    "    ax.grid(True)\n",
    "    ax.set_yticklabels([])\n",
    "\n",
    "    binwidth = 1\n",
    "    xymax = max(np.max(np.abs(x)), np.max(np.abs(y)))\n",
    "    lim = (int(xymax/binwidth) + 1) * binwidth\n",
    "\n",
    "    bins = np.arange(-lim, lim + binwidth, binwidth)\n",
    "\n",
    "    heights = []\n",
    "    for i in range(noc):\n",
    "        heights.append(ax_histx.hist(x_hist_cols[i],align='left', bins=bins, color = colors[i])[0])\n",
    "    right_side = ax_histx.spines[\"right\"]\n",
    "    right_side.set_visible(False)\n",
    "    top_side = ax_histx.spines[\"top\"]\n",
    "    top_side.set_visible(False)\n",
    "    return heights\n",
    "\n",
    "fig = plt.figure(figsize=(6, 8), dpi=300)\n",
    "gs = fig.add_gridspec(2, 2,  width_ratios=(4, 1), height_ratios=(1, 4),\n",
    "                      left=0.1, right=0.9, bottom=0.1, top=0.9,\n",
    "                      wspace=0.05, hspace=0.05)\n",
    "ax = fig.add_subplot(gs[1, 0])\n",
    "ax_histx = fig.add_subplot(gs[0, 0], sharex=ax)\n",
    "\n",
    "heights = scatter_hist(x, y, ax, ax_histx)\n",
    "real_heights = []\n",
    "\n",
    "for el in heights:\n",
    "    real_heights.append(max(el))\n",
    "    \n",
    "mylabels = ['NDRIs', 'SSRIs', 'SARIs', 'SNRIs', 'TeCAs', 'TCAs']\n",
    "\n",
    "for i in range(len(mylabels)):\n",
    "    plt.text(-0.1+i, real_heights[i]+0.9, mylabels[i], rotation=90, fontsize=12)\n",
    "\n",
    "plt.savefig('Figure 5', bbox_inches='tight')"
   ]
  },
  {
   "cell_type": "code",
   "execution_count": null,
   "id": "cd1e8549-e9ca-485b-852c-7215c857e53e",
   "metadata": {},
   "outputs": [],
   "source": []
  }
 ],
 "metadata": {
  "kernelspec": {
   "display_name": "Python 3 (ipykernel)",
   "language": "python",
   "name": "python3"
  },
  "language_info": {
   "codemirror_mode": {
    "name": "ipython",
    "version": 3
   },
   "file_extension": ".py",
   "mimetype": "text/x-python",
   "name": "python",
   "nbconvert_exporter": "python",
   "pygments_lexer": "ipython3",
   "version": "3.11.5"
  }
 },
 "nbformat": 4,
 "nbformat_minor": 5
}
